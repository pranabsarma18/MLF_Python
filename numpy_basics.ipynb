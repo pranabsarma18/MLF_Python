{
  "cells": [
    {
      "cell_type": "markdown",
      "metadata": {
        "id": "view-in-github",
        "colab_type": "text"
      },
      "source": [
        "<a href=\"https://colab.research.google.com/github/pranabsarma18/MLF_Python/blob/main/numpy_basics.ipynb\" target=\"_parent\"><img src=\"https://colab.research.google.com/assets/colab-badge.svg\" alt=\"Open In Colab\"/></a>"
      ]
    },
    {
      "cell_type": "markdown",
      "id": "502da6a2",
      "metadata": {
        "id": "502da6a2"
      },
      "source": [
        "# Introduction to NumPy\n",
        "\n",
        "\n",
        "Plan:\n",
        "\n",
        "* Creating arrays\n",
        "* Multi-dementional arrays\n",
        "* Randomly generated arrays\n",
        "* Element-wise operations\n",
        "    * Comparison operations\n",
        "    * Logical operations\n",
        "* Summarizing operations"
      ]
    },
    {
      "cell_type": "code",
      "execution_count": null,
      "id": "95aa5b76",
      "metadata": {
        "id": "95aa5b76"
      },
      "outputs": [],
      "source": [
        "import numpy as np"
      ]
    },
    {
      "cell_type": "code",
      "execution_count": null,
      "id": "aa693c84",
      "metadata": {
        "id": "aa693c84",
        "outputId": "d90f0ac4-fcaf-4250-e1d5-6f66f34086f0"
      },
      "outputs": [
        {
          "data": {
            "text/plain": [
              "<module 'numpy' from '/home/alexey/.pyenv/versions/3.8.11/lib/python3.8/site-packages/numpy/__init__.py'>"
            ]
          },
          "execution_count": 8,
          "metadata": {},
          "output_type": "execute_result"
        }
      ],
      "source": [
        "np"
      ]
    },
    {
      "cell_type": "markdown",
      "id": "1e3ff2dc",
      "metadata": {
        "id": "1e3ff2dc"
      },
      "source": [
        "## Creating arrays\n"
      ]
    },
    {
      "cell_type": "code",
      "execution_count": null,
      "id": "783c3362",
      "metadata": {
        "id": "783c3362",
        "outputId": "13bde303-22d3-47d1-f413-5b9bfdb4c86a"
      },
      "outputs": [
        {
          "data": {
            "text/plain": [
              "array([0., 0., 0., 0., 0., 0., 0., 0., 0., 0.])"
            ]
          },
          "execution_count": 10,
          "metadata": {},
          "output_type": "execute_result"
        }
      ],
      "source": [
        "np.zeros(10)"
      ]
    },
    {
      "cell_type": "code",
      "execution_count": null,
      "id": "2fc75d89",
      "metadata": {
        "id": "2fc75d89",
        "outputId": "a7c03788-92db-4165-9d1a-cdc6711a63af"
      },
      "outputs": [
        {
          "data": {
            "text/plain": [
              "array([1., 1., 1., 1., 1., 1., 1., 1., 1., 1.])"
            ]
          },
          "execution_count": 11,
          "metadata": {},
          "output_type": "execute_result"
        }
      ],
      "source": [
        "np.ones(10)"
      ]
    },
    {
      "cell_type": "code",
      "execution_count": null,
      "id": "5183483b",
      "metadata": {
        "id": "5183483b",
        "outputId": "a303bf23-cecd-4a4c-a48f-0d240f7f42ea"
      },
      "outputs": [
        {
          "data": {
            "text/plain": [
              "array([2.5, 2.5, 2.5, 2.5, 2.5, 2.5, 2.5, 2.5, 2.5, 2.5])"
            ]
          },
          "execution_count": 12,
          "metadata": {},
          "output_type": "execute_result"
        }
      ],
      "source": [
        "np.full(10, 2.5)"
      ]
    },
    {
      "cell_type": "code",
      "execution_count": null,
      "id": "fe81664d",
      "metadata": {
        "id": "fe81664d",
        "outputId": "7f1b4dd2-b238-46da-ca81-416b31ac8ffc"
      },
      "outputs": [
        {
          "data": {
            "text/plain": [
              "array([ 1,  2,  3,  5,  7, 12])"
            ]
          },
          "execution_count": 15,
          "metadata": {},
          "output_type": "execute_result"
        }
      ],
      "source": [
        "a = np.array([1, 2, 3, 5, 7, 12])\n",
        "a"
      ]
    },
    {
      "cell_type": "code",
      "execution_count": null,
      "id": "dee26035",
      "metadata": {
        "id": "dee26035"
      },
      "outputs": [],
      "source": [
        "a[2] = 10"
      ]
    },
    {
      "cell_type": "code",
      "execution_count": null,
      "id": "0cf95a0f",
      "metadata": {
        "id": "0cf95a0f",
        "outputId": "a5787326-a813-4689-cbf4-a6b8cdc3901b"
      },
      "outputs": [
        {
          "data": {
            "text/plain": [
              "array([ 1,  2, 10,  5,  7, 12])"
            ]
          },
          "execution_count": 18,
          "metadata": {},
          "output_type": "execute_result"
        }
      ],
      "source": [
        "a"
      ]
    },
    {
      "cell_type": "code",
      "execution_count": null,
      "id": "9a579406",
      "metadata": {
        "id": "9a579406",
        "outputId": "3c8725d8-3d92-4c9c-dbac-40519de26d95"
      },
      "outputs": [
        {
          "data": {
            "text/plain": [
              "array([3, 4, 5, 6, 7, 8, 9])"
            ]
          },
          "execution_count": 20,
          "metadata": {},
          "output_type": "execute_result"
        }
      ],
      "source": [
        "np.arange(3, 10)"
      ]
    },
    {
      "cell_type": "code",
      "execution_count": null,
      "id": "96260ddb",
      "metadata": {
        "id": "96260ddb",
        "outputId": "4fd6873b-f72a-4da5-92e8-da0327d9b71c"
      },
      "outputs": [
        {
          "data": {
            "text/plain": [
              "array([  0.,  10.,  20.,  30.,  40.,  50.,  60.,  70.,  80.,  90., 100.])"
            ]
          },
          "execution_count": 24,
          "metadata": {},
          "output_type": "execute_result"
        }
      ],
      "source": [
        "np.linspace(0, 100, 11)"
      ]
    },
    {
      "cell_type": "markdown",
      "id": "37f36946",
      "metadata": {
        "id": "37f36946"
      },
      "source": [
        "## Multi-dementional arrays\n"
      ]
    },
    {
      "cell_type": "code",
      "execution_count": null,
      "id": "b4a61c53",
      "metadata": {
        "id": "b4a61c53",
        "outputId": "e4c9f18d-2180-4a49-c1e1-9b3a5bc29097"
      },
      "outputs": [
        {
          "data": {
            "text/plain": [
              "array([[0., 0.],\n",
              "       [0., 0.],\n",
              "       [0., 0.],\n",
              "       [0., 0.],\n",
              "       [0., 0.]])"
            ]
          },
          "execution_count": 25,
          "metadata": {},
          "output_type": "execute_result"
        }
      ],
      "source": [
        "np.zeros((5, 2))"
      ]
    },
    {
      "cell_type": "code",
      "execution_count": null,
      "id": "4f75f854",
      "metadata": {
        "id": "4f75f854"
      },
      "outputs": [],
      "source": [
        "n = np.array([\n",
        "    [1, 2, 3],\n",
        "    [4, 5, 6],\n",
        "    [7, 8, 9]\n",
        "])"
      ]
    },
    {
      "cell_type": "code",
      "execution_count": null,
      "id": "619860f6",
      "metadata": {
        "id": "619860f6"
      },
      "outputs": [],
      "source": [
        "n[0, 1] = 20"
      ]
    },
    {
      "cell_type": "code",
      "execution_count": null,
      "id": "54333fc7",
      "metadata": {
        "id": "54333fc7",
        "outputId": "4fbfc098-4aed-48e5-e91b-68b21fc5aa10"
      },
      "outputs": [
        {
          "data": {
            "text/plain": [
              "array([[ 1, 20,  3],\n",
              "       [ 4,  5,  6],\n",
              "       [ 7,  8,  9]])"
            ]
          },
          "execution_count": 30,
          "metadata": {},
          "output_type": "execute_result"
        }
      ],
      "source": [
        "n"
      ]
    },
    {
      "cell_type": "code",
      "execution_count": null,
      "id": "57eef634",
      "metadata": {
        "id": "57eef634"
      },
      "outputs": [],
      "source": [
        "n[2] = [1, 1, 1]"
      ]
    },
    {
      "cell_type": "code",
      "execution_count": null,
      "id": "b3fa6ae7",
      "metadata": {
        "id": "b3fa6ae7",
        "outputId": "b51c6bd1-5597-4d2b-ae20-f427dbb9bd8d"
      },
      "outputs": [
        {
          "data": {
            "text/plain": [
              "array([[ 1, 20,  3],\n",
              "       [ 4,  5,  6],\n",
              "       [ 1,  1,  1]])"
            ]
          },
          "execution_count": 35,
          "metadata": {},
          "output_type": "execute_result"
        }
      ],
      "source": [
        "n"
      ]
    },
    {
      "cell_type": "code",
      "execution_count": null,
      "id": "42f1d1f4",
      "metadata": {
        "id": "42f1d1f4"
      },
      "outputs": [],
      "source": [
        "n[:, 2] = [0, 1, 2]"
      ]
    },
    {
      "cell_type": "code",
      "execution_count": null,
      "id": "13442277",
      "metadata": {
        "id": "13442277",
        "outputId": "34018130-9236-4975-a7e6-5a07a4345f5d"
      },
      "outputs": [
        {
          "data": {
            "text/plain": [
              "array([[ 1, 20,  0],\n",
              "       [ 4,  5,  1],\n",
              "       [ 1,  1,  2]])"
            ]
          },
          "execution_count": 40,
          "metadata": {},
          "output_type": "execute_result"
        }
      ],
      "source": [
        "n"
      ]
    },
    {
      "cell_type": "markdown",
      "id": "62ba6337",
      "metadata": {
        "id": "62ba6337"
      },
      "source": [
        "## Randomly generated arrays\n"
      ]
    },
    {
      "cell_type": "code",
      "execution_count": null,
      "id": "6781ff11",
      "metadata": {
        "id": "6781ff11",
        "outputId": "33eb8e3e-2c2d-4bb0-e4b9-8d74e96ccc92"
      },
      "outputs": [
        {
          "data": {
            "text/plain": [
              "array([[43.59949021,  2.59262318],\n",
              "       [54.96624779, 43.53223926],\n",
              "       [42.03678021, 33.0334821 ],\n",
              "       [20.4648634 , 61.92709664],\n",
              "       [29.96546737, 26.68272751]])"
            ]
          },
          "execution_count": 51,
          "metadata": {},
          "output_type": "execute_result"
        }
      ],
      "source": [
        "np.random.seed(2)\n",
        "100 * np.random.rand(5, 2)"
      ]
    },
    {
      "cell_type": "code",
      "execution_count": null,
      "id": "4374e58b",
      "metadata": {
        "id": "4374e58b",
        "outputId": "8eeb558c-21a0-4182-ec3d-c756cff2a8e1"
      },
      "outputs": [
        {
          "data": {
            "text/plain": [
              "array([[-0.41675785, -0.05626683],\n",
              "       [-2.1361961 ,  1.64027081],\n",
              "       [-1.79343559, -0.84174737],\n",
              "       [ 0.50288142, -1.24528809],\n",
              "       [-1.05795222, -0.90900761]])"
            ]
          },
          "execution_count": 50,
          "metadata": {},
          "output_type": "execute_result"
        }
      ],
      "source": [
        "np.random.seed(2)\n",
        "np.random.randn(5, 2)"
      ]
    },
    {
      "cell_type": "code",
      "execution_count": null,
      "id": "ebb39565",
      "metadata": {
        "id": "ebb39565",
        "outputId": "e98f7c26-5717-4a5c-eb6a-1ab1e14e97b9"
      },
      "outputs": [
        {
          "data": {
            "text/plain": [
              "array([[40, 15],\n",
              "       [72, 22],\n",
              "       [43, 82],\n",
              "       [75,  7],\n",
              "       [34, 49]])"
            ]
          },
          "execution_count": 52,
          "metadata": {},
          "output_type": "execute_result"
        }
      ],
      "source": [
        "np.random.seed(2)\n",
        "np.random.randint(low=0, high=100, size=(5, 2))"
      ]
    },
    {
      "cell_type": "markdown",
      "id": "364c6d7c",
      "metadata": {
        "id": "364c6d7c"
      },
      "source": [
        "## Element-wise operations\n"
      ]
    },
    {
      "cell_type": "code",
      "execution_count": null,
      "id": "51390a32",
      "metadata": {
        "id": "51390a32",
        "outputId": "48d92a7d-d59e-46d5-afae-753837ce3c78"
      },
      "outputs": [
        {
          "data": {
            "text/plain": [
              "array([0, 1, 2, 3, 4])"
            ]
          },
          "execution_count": 53,
          "metadata": {},
          "output_type": "execute_result"
        }
      ],
      "source": [
        "a = np.arange(5)\n",
        "a"
      ]
    },
    {
      "cell_type": "code",
      "execution_count": null,
      "id": "6e87e9b0",
      "metadata": {
        "id": "6e87e9b0"
      },
      "outputs": [],
      "source": [
        "b = (10 + (a * 2)) ** 2 / 100"
      ]
    },
    {
      "cell_type": "code",
      "execution_count": null,
      "id": "013a9e2a",
      "metadata": {
        "id": "013a9e2a",
        "outputId": "999a4612-eedf-4a74-f64a-19e77a7e1b87"
      },
      "outputs": [
        {
          "data": {
            "text/plain": [
              "array([1.  , 1.44, 1.96, 2.56, 3.24])"
            ]
          },
          "execution_count": 65,
          "metadata": {},
          "output_type": "execute_result"
        }
      ],
      "source": [
        "b"
      ]
    },
    {
      "cell_type": "code",
      "execution_count": null,
      "id": "08592c4a",
      "metadata": {
        "id": "08592c4a",
        "outputId": "172efd8f-604f-4c19-be62-b7fa2b6236b9"
      },
      "outputs": [
        {
          "data": {
            "text/plain": [
              "array([10.        , 10.69444444, 11.02040816, 11.171875  , 11.2345679 ])"
            ]
          },
          "execution_count": 68,
          "metadata": {},
          "output_type": "execute_result"
        }
      ],
      "source": [
        "a / b + 10"
      ]
    },
    {
      "cell_type": "markdown",
      "id": "35fc84d3",
      "metadata": {
        "id": "35fc84d3"
      },
      "source": [
        "## Comparison operations"
      ]
    },
    {
      "cell_type": "code",
      "execution_count": null,
      "id": "e26eefdc",
      "metadata": {
        "id": "e26eefdc",
        "outputId": "e7bc3f83-15af-4590-a723-a1bcacaedbc8"
      },
      "outputs": [
        {
          "data": {
            "text/plain": [
              "array([0, 1, 2, 3, 4])"
            ]
          },
          "execution_count": 70,
          "metadata": {},
          "output_type": "execute_result"
        }
      ],
      "source": [
        "a"
      ]
    },
    {
      "cell_type": "code",
      "execution_count": null,
      "id": "8fd3fc96",
      "metadata": {
        "id": "8fd3fc96",
        "outputId": "8d5cc985-b62e-4894-e336-fa8caec3456e"
      },
      "outputs": [
        {
          "data": {
            "text/plain": [
              "array([False, False,  True,  True,  True])"
            ]
          },
          "execution_count": 69,
          "metadata": {},
          "output_type": "execute_result"
        }
      ],
      "source": [
        "a >= 2"
      ]
    },
    {
      "cell_type": "code",
      "execution_count": null,
      "id": "bca43c2c",
      "metadata": {
        "id": "bca43c2c",
        "outputId": "e68c7279-0317-4b69-d132-d944c6af9a9a"
      },
      "outputs": [
        {
          "data": {
            "text/plain": [
              "array([1.  , 1.44, 1.96, 2.56, 3.24])"
            ]
          },
          "execution_count": 71,
          "metadata": {},
          "output_type": "execute_result"
        }
      ],
      "source": [
        "b"
      ]
    },
    {
      "cell_type": "code",
      "execution_count": null,
      "id": "f6e89611",
      "metadata": {
        "id": "f6e89611",
        "outputId": "e5920122-ef0e-4616-d2ed-74bc24fcae8d"
      },
      "outputs": [
        {
          "data": {
            "text/plain": [
              "array([False, False,  True,  True,  True])"
            ]
          },
          "execution_count": 72,
          "metadata": {},
          "output_type": "execute_result"
        }
      ],
      "source": [
        "a > b"
      ]
    },
    {
      "cell_type": "code",
      "execution_count": null,
      "id": "15a5a80a",
      "metadata": {
        "id": "15a5a80a",
        "outputId": "c01ba42d-b99f-42e3-b03d-49d1793620a0"
      },
      "outputs": [
        {
          "data": {
            "text/plain": [
              "array([2, 3, 4])"
            ]
          },
          "execution_count": 73,
          "metadata": {},
          "output_type": "execute_result"
        }
      ],
      "source": [
        "a[a > b]"
      ]
    },
    {
      "cell_type": "markdown",
      "id": "0259499b",
      "metadata": {
        "id": "0259499b"
      },
      "source": [
        "## Summarizing operations"
      ]
    },
    {
      "cell_type": "code",
      "execution_count": null,
      "id": "c1b30281",
      "metadata": {
        "id": "c1b30281",
        "outputId": "e73baf64-43a3-4a9f-8b9d-a80a6617fa55"
      },
      "outputs": [
        {
          "data": {
            "text/plain": [
              "array([0, 1, 2, 3, 4])"
            ]
          },
          "execution_count": 75,
          "metadata": {},
          "output_type": "execute_result"
        }
      ],
      "source": [
        "a"
      ]
    },
    {
      "cell_type": "code",
      "execution_count": null,
      "id": "d850c2aa",
      "metadata": {
        "id": "d850c2aa",
        "outputId": "f23013cd-6615-4b5a-f35c-59a2519a8161"
      },
      "outputs": [
        {
          "data": {
            "text/plain": [
              "1.4142135623730951"
            ]
          },
          "execution_count": 79,
          "metadata": {},
          "output_type": "execute_result"
        }
      ],
      "source": [
        "a.std()"
      ]
    },
    {
      "cell_type": "code",
      "execution_count": null,
      "id": "2b2587f2",
      "metadata": {
        "id": "2b2587f2",
        "outputId": "5c2aea30-7228-4286-92b2-3cd52c8d43cf"
      },
      "outputs": [
        {
          "data": {
            "text/plain": [
              "0"
            ]
          },
          "execution_count": 82,
          "metadata": {},
          "output_type": "execute_result"
        }
      ],
      "source": [
        "n.min()"
      ]
    },
    {
      "cell_type": "markdown",
      "id": "0662686b",
      "metadata": {
        "id": "0662686b"
      },
      "source": [
        "### Next\n",
        "\n",
        "Linear algebra refresher"
      ]
    }
  ],
  "metadata": {
    "kernelspec": {
      "display_name": "Python 3 (ipykernel)",
      "language": "python",
      "name": "python3"
    },
    "language_info": {
      "codemirror_mode": {
        "name": "ipython",
        "version": 3
      },
      "file_extension": ".py",
      "mimetype": "text/x-python",
      "name": "python",
      "nbconvert_exporter": "python",
      "pygments_lexer": "ipython3",
      "version": "3.8.11"
    },
    "colab": {
      "name": "numpy-basics.ipynb",
      "provenance": [],
      "include_colab_link": true
    }
  },
  "nbformat": 4,
  "nbformat_minor": 5
}