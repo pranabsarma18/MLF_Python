{
  "cells": [
    {
      "cell_type": "markdown",
      "metadata": {
        "id": "view-in-github",
        "colab_type": "text"
      },
      "source": [
        "<a href=\"https://colab.research.google.com/github/pranabsarma18/MLF_Python/blob/main/numpy_basics.ipynb\" target=\"_parent\"><img src=\"https://colab.research.google.com/assets/colab-badge.svg\" alt=\"Open In Colab\"/></a>"
      ]
    },
    {
      "cell_type": "markdown",
      "id": "502da6a2",
      "metadata": {
        "id": "502da6a2"
      },
      "source": [
        "# Introduction to NumPy\n",
        "\n",
        "\n",
        "Plan:\n",
        "\n",
        "* Creating arrays\n",
        "* Multi-dementional arrays\n",
        "* Randomly generated arrays\n",
        "* Element-wise operations\n",
        "    * Comparison operations\n",
        "    * Logical operations\n",
        "* Summarizing operations"
      ]
    },
    {
      "cell_type": "code",
      "execution_count": 34,
      "id": "95aa5b76",
      "metadata": {
        "id": "95aa5b76"
      },
      "outputs": [],
      "source": [
        "import numpy as np"
      ]
    },
    {
      "cell_type": "markdown",
      "id": "1e3ff2dc",
      "metadata": {
        "id": "1e3ff2dc"
      },
      "source": [
        "## Creating arrays\n"
      ]
    },
    {
      "cell_type": "code",
      "execution_count": 35,
      "id": "783c3362",
      "metadata": {
        "id": "783c3362",
        "outputId": "ca4e2517-37bd-4587-8f56-e9f922cb43f0",
        "colab": {
          "base_uri": "https://localhost:8080/"
        }
      },
      "outputs": [
        {
          "output_type": "execute_result",
          "data": {
            "text/plain": [
              "array([0., 0., 0., 0., 0., 0., 0., 0., 0., 0.])"
            ]
          },
          "metadata": {},
          "execution_count": 35
        }
      ],
      "source": [
        "np.zeros(10)"
      ]
    },
    {
      "cell_type": "code",
      "execution_count": 36,
      "id": "2fc75d89",
      "metadata": {
        "id": "2fc75d89",
        "outputId": "dad150a4-774c-47dd-bcb6-c07db91d5baf",
        "colab": {
          "base_uri": "https://localhost:8080/"
        }
      },
      "outputs": [
        {
          "output_type": "execute_result",
          "data": {
            "text/plain": [
              "array([1., 1., 1., 1., 1., 1., 1., 1., 1., 1.])"
            ]
          },
          "metadata": {},
          "execution_count": 36
        }
      ],
      "source": [
        "np.ones(10)"
      ]
    },
    {
      "cell_type": "code",
      "execution_count": 37,
      "id": "5183483b",
      "metadata": {
        "id": "5183483b",
        "outputId": "8bb798d7-1745-47cb-932c-cd6d6c646d6d",
        "colab": {
          "base_uri": "https://localhost:8080/"
        }
      },
      "outputs": [
        {
          "output_type": "execute_result",
          "data": {
            "text/plain": [
              "array([2.5, 2.5, 2.5, 2.5, 2.5, 2.5, 2.5, 2.5, 2.5, 2.5])"
            ]
          },
          "metadata": {},
          "execution_count": 37
        }
      ],
      "source": [
        "np.full(10, 2.5)"
      ]
    },
    {
      "cell_type": "code",
      "execution_count": 38,
      "id": "fe81664d",
      "metadata": {
        "id": "fe81664d",
        "outputId": "3905c278-0074-42db-c3d5-2037de15b69e",
        "colab": {
          "base_uri": "https://localhost:8080/"
        }
      },
      "outputs": [
        {
          "output_type": "execute_result",
          "data": {
            "text/plain": [
              "array([ 1,  2,  3,  5,  7, 12])"
            ]
          },
          "metadata": {},
          "execution_count": 38
        }
      ],
      "source": [
        "a = np.array([1, 2, 3, 5, 7, 12])\n",
        "a"
      ]
    },
    {
      "cell_type": "code",
      "execution_count": 39,
      "id": "dee26035",
      "metadata": {
        "id": "dee26035"
      },
      "outputs": [],
      "source": [
        "a[2] = 10"
      ]
    },
    {
      "cell_type": "code",
      "execution_count": 40,
      "id": "0cf95a0f",
      "metadata": {
        "id": "0cf95a0f",
        "outputId": "66c33930-96f2-4bee-805b-6835df389b14",
        "colab": {
          "base_uri": "https://localhost:8080/"
        }
      },
      "outputs": [
        {
          "output_type": "execute_result",
          "data": {
            "text/plain": [
              "array([ 1,  2, 10,  5,  7, 12])"
            ]
          },
          "metadata": {},
          "execution_count": 40
        }
      ],
      "source": [
        "a"
      ]
    },
    {
      "cell_type": "code",
      "execution_count": 41,
      "id": "9a579406",
      "metadata": {
        "id": "9a579406",
        "outputId": "039af617-152e-4207-8c42-a07bdb457e3e",
        "colab": {
          "base_uri": "https://localhost:8080/"
        }
      },
      "outputs": [
        {
          "output_type": "execute_result",
          "data": {
            "text/plain": [
              "array([3, 4, 5, 6, 7, 8, 9])"
            ]
          },
          "metadata": {},
          "execution_count": 41
        }
      ],
      "source": [
        "np.arange(3, 10)"
      ]
    },
    {
      "cell_type": "code",
      "execution_count": 42,
      "id": "96260ddb",
      "metadata": {
        "id": "96260ddb",
        "outputId": "8535198c-bbdd-45c7-d411-2c762cabb16b",
        "colab": {
          "base_uri": "https://localhost:8080/"
        }
      },
      "outputs": [
        {
          "output_type": "execute_result",
          "data": {
            "text/plain": [
              "array([  0.,  10.,  20.,  30.,  40.,  50.,  60.,  70.,  80.,  90., 100.])"
            ]
          },
          "metadata": {},
          "execution_count": 42
        }
      ],
      "source": [
        "np.linspace(0, 100, 11)"
      ]
    },
    {
      "cell_type": "markdown",
      "id": "37f36946",
      "metadata": {
        "id": "37f36946"
      },
      "source": [
        "## Multi-dementional arrays\n"
      ]
    },
    {
      "cell_type": "code",
      "execution_count": 43,
      "id": "b4a61c53",
      "metadata": {
        "id": "b4a61c53",
        "outputId": "f5659995-30a9-4d85-fa60-04b46c59b0d9",
        "colab": {
          "base_uri": "https://localhost:8080/"
        }
      },
      "outputs": [
        {
          "output_type": "execute_result",
          "data": {
            "text/plain": [
              "array([[0., 0.],\n",
              "       [0., 0.],\n",
              "       [0., 0.],\n",
              "       [0., 0.],\n",
              "       [0., 0.]])"
            ]
          },
          "metadata": {},
          "execution_count": 43
        }
      ],
      "source": [
        "np.zeros((5, 2))"
      ]
    },
    {
      "cell_type": "code",
      "execution_count": 44,
      "id": "4f75f854",
      "metadata": {
        "id": "4f75f854"
      },
      "outputs": [],
      "source": [
        "n = np.array([\n",
        "    [1, 2, 3],\n",
        "    [4, 5, 6],\n",
        "    [7, 8, 9]\n",
        "])"
      ]
    },
    {
      "cell_type": "code",
      "execution_count": 45,
      "id": "619860f6",
      "metadata": {
        "id": "619860f6"
      },
      "outputs": [],
      "source": [
        "n[0, 1] = 20"
      ]
    },
    {
      "cell_type": "code",
      "execution_count": 46,
      "id": "54333fc7",
      "metadata": {
        "id": "54333fc7",
        "outputId": "a65bb755-e5ef-4c50-f925-d4b91f86b577",
        "colab": {
          "base_uri": "https://localhost:8080/"
        }
      },
      "outputs": [
        {
          "output_type": "execute_result",
          "data": {
            "text/plain": [
              "array([[ 1, 20,  3],\n",
              "       [ 4,  5,  6],\n",
              "       [ 7,  8,  9]])"
            ]
          },
          "metadata": {},
          "execution_count": 46
        }
      ],
      "source": [
        "n"
      ]
    },
    {
      "cell_type": "code",
      "execution_count": 47,
      "id": "57eef634",
      "metadata": {
        "id": "57eef634"
      },
      "outputs": [],
      "source": [
        "n[2] = [1, 1, 1]"
      ]
    },
    {
      "cell_type": "code",
      "execution_count": 48,
      "id": "b3fa6ae7",
      "metadata": {
        "id": "b3fa6ae7",
        "outputId": "50f2b667-80fa-4093-f52d-52c8dcffaa1c",
        "colab": {
          "base_uri": "https://localhost:8080/"
        }
      },
      "outputs": [
        {
          "output_type": "execute_result",
          "data": {
            "text/plain": [
              "array([[ 1, 20,  3],\n",
              "       [ 4,  5,  6],\n",
              "       [ 1,  1,  1]])"
            ]
          },
          "metadata": {},
          "execution_count": 48
        }
      ],
      "source": [
        "n"
      ]
    },
    {
      "cell_type": "code",
      "execution_count": 49,
      "id": "42f1d1f4",
      "metadata": {
        "id": "42f1d1f4"
      },
      "outputs": [],
      "source": [
        "n[:, 2] = [0, 1, 2]"
      ]
    },
    {
      "cell_type": "code",
      "execution_count": 50,
      "id": "13442277",
      "metadata": {
        "id": "13442277",
        "outputId": "c16952d8-3ff0-4600-e456-cbd2e11cb795",
        "colab": {
          "base_uri": "https://localhost:8080/"
        }
      },
      "outputs": [
        {
          "output_type": "execute_result",
          "data": {
            "text/plain": [
              "array([[ 1, 20,  0],\n",
              "       [ 4,  5,  1],\n",
              "       [ 1,  1,  2]])"
            ]
          },
          "metadata": {},
          "execution_count": 50
        }
      ],
      "source": [
        "n"
      ]
    },
    {
      "cell_type": "markdown",
      "id": "62ba6337",
      "metadata": {
        "id": "62ba6337"
      },
      "source": [
        "## Randomly generated arrays\n"
      ]
    },
    {
      "cell_type": "code",
      "execution_count": 51,
      "id": "6781ff11",
      "metadata": {
        "id": "6781ff11",
        "outputId": "5987aa8a-61a8-4f5f-ec22-b9ca8745e6cf",
        "colab": {
          "base_uri": "https://localhost:8080/"
        }
      },
      "outputs": [
        {
          "output_type": "execute_result",
          "data": {
            "text/plain": [
              "array([[43.59949021,  2.59262318],\n",
              "       [54.96624779, 43.53223926],\n",
              "       [42.03678021, 33.0334821 ],\n",
              "       [20.4648634 , 61.92709664],\n",
              "       [29.96546737, 26.68272751]])"
            ]
          },
          "metadata": {},
          "execution_count": 51
        }
      ],
      "source": [
        "np.random.seed(2)\n",
        "100 * np.random.rand(5, 2)"
      ]
    },
    {
      "cell_type": "code",
      "execution_count": 52,
      "id": "4374e58b",
      "metadata": {
        "id": "4374e58b",
        "outputId": "81433d59-fe9a-4dfa-ac5d-987a85966db4",
        "colab": {
          "base_uri": "https://localhost:8080/"
        }
      },
      "outputs": [
        {
          "output_type": "execute_result",
          "data": {
            "text/plain": [
              "array([[-0.41675785, -0.05626683],\n",
              "       [-2.1361961 ,  1.64027081],\n",
              "       [-1.79343559, -0.84174737],\n",
              "       [ 0.50288142, -1.24528809],\n",
              "       [-1.05795222, -0.90900761]])"
            ]
          },
          "metadata": {},
          "execution_count": 52
        }
      ],
      "source": [
        "np.random.seed(2)\n",
        "np.random.randn(5, 2)"
      ]
    },
    {
      "cell_type": "code",
      "execution_count": 53,
      "id": "ebb39565",
      "metadata": {
        "id": "ebb39565",
        "outputId": "613f8a11-8375-4bff-865e-2e88a6a55e6b",
        "colab": {
          "base_uri": "https://localhost:8080/"
        }
      },
      "outputs": [
        {
          "output_type": "execute_result",
          "data": {
            "text/plain": [
              "array([[40, 15],\n",
              "       [72, 22],\n",
              "       [43, 82],\n",
              "       [75,  7],\n",
              "       [34, 49]])"
            ]
          },
          "metadata": {},
          "execution_count": 53
        }
      ],
      "source": [
        "np.random.seed(2)\n",
        "np.random.randint(low=0, high=100, size=(5, 2))"
      ]
    },
    {
      "cell_type": "markdown",
      "id": "364c6d7c",
      "metadata": {
        "id": "364c6d7c"
      },
      "source": [
        "## Element-wise operations\n"
      ]
    },
    {
      "cell_type": "code",
      "execution_count": 54,
      "id": "51390a32",
      "metadata": {
        "id": "51390a32",
        "outputId": "2b144fea-3b57-48e1-936c-e27bc758bb24",
        "colab": {
          "base_uri": "https://localhost:8080/"
        }
      },
      "outputs": [
        {
          "output_type": "execute_result",
          "data": {
            "text/plain": [
              "array([0, 1, 2, 3, 4])"
            ]
          },
          "metadata": {},
          "execution_count": 54
        }
      ],
      "source": [
        "a = np.arange(5)\n",
        "a"
      ]
    },
    {
      "cell_type": "code",
      "execution_count": 55,
      "id": "6e87e9b0",
      "metadata": {
        "id": "6e87e9b0"
      },
      "outputs": [],
      "source": [
        "b = (10 + (a * 2)) ** 2 / 100"
      ]
    },
    {
      "cell_type": "code",
      "execution_count": 56,
      "id": "013a9e2a",
      "metadata": {
        "id": "013a9e2a",
        "outputId": "d4310a1c-edd0-46ad-a389-ad0bb6a03d9a",
        "colab": {
          "base_uri": "https://localhost:8080/"
        }
      },
      "outputs": [
        {
          "output_type": "execute_result",
          "data": {
            "text/plain": [
              "array([1.  , 1.44, 1.96, 2.56, 3.24])"
            ]
          },
          "metadata": {},
          "execution_count": 56
        }
      ],
      "source": [
        "b"
      ]
    },
    {
      "cell_type": "code",
      "execution_count": 57,
      "id": "08592c4a",
      "metadata": {
        "id": "08592c4a",
        "outputId": "a9c6d973-9b29-4015-9c3a-5d6b633ac387",
        "colab": {
          "base_uri": "https://localhost:8080/"
        }
      },
      "outputs": [
        {
          "output_type": "execute_result",
          "data": {
            "text/plain": [
              "array([10.        , 10.69444444, 11.02040816, 11.171875  , 11.2345679 ])"
            ]
          },
          "metadata": {},
          "execution_count": 57
        }
      ],
      "source": [
        "a / b + 10"
      ]
    },
    {
      "cell_type": "markdown",
      "id": "35fc84d3",
      "metadata": {
        "id": "35fc84d3"
      },
      "source": [
        "## Comparison operations"
      ]
    },
    {
      "cell_type": "code",
      "execution_count": 58,
      "id": "e26eefdc",
      "metadata": {
        "id": "e26eefdc",
        "outputId": "bff714c0-d2ea-4e79-9114-72502b9655c3",
        "colab": {
          "base_uri": "https://localhost:8080/"
        }
      },
      "outputs": [
        {
          "output_type": "execute_result",
          "data": {
            "text/plain": [
              "array([0, 1, 2, 3, 4])"
            ]
          },
          "metadata": {},
          "execution_count": 58
        }
      ],
      "source": [
        "a"
      ]
    },
    {
      "cell_type": "code",
      "execution_count": 59,
      "id": "8fd3fc96",
      "metadata": {
        "id": "8fd3fc96",
        "outputId": "105185c1-47a7-40ae-c86b-9c436e2385c9",
        "colab": {
          "base_uri": "https://localhost:8080/"
        }
      },
      "outputs": [
        {
          "output_type": "execute_result",
          "data": {
            "text/plain": [
              "array([False, False,  True,  True,  True])"
            ]
          },
          "metadata": {},
          "execution_count": 59
        }
      ],
      "source": [
        "a >= 2"
      ]
    },
    {
      "cell_type": "code",
      "execution_count": 60,
      "id": "bca43c2c",
      "metadata": {
        "id": "bca43c2c",
        "outputId": "c583f8d2-909a-4550-fd9c-4e42036d9c5f",
        "colab": {
          "base_uri": "https://localhost:8080/"
        }
      },
      "outputs": [
        {
          "output_type": "execute_result",
          "data": {
            "text/plain": [
              "array([1.  , 1.44, 1.96, 2.56, 3.24])"
            ]
          },
          "metadata": {},
          "execution_count": 60
        }
      ],
      "source": [
        "b"
      ]
    },
    {
      "cell_type": "code",
      "execution_count": 61,
      "id": "f6e89611",
      "metadata": {
        "id": "f6e89611",
        "outputId": "aa93c7cd-6260-4c31-c27d-8e75bdd1f397",
        "colab": {
          "base_uri": "https://localhost:8080/"
        }
      },
      "outputs": [
        {
          "output_type": "execute_result",
          "data": {
            "text/plain": [
              "array([False, False,  True,  True,  True])"
            ]
          },
          "metadata": {},
          "execution_count": 61
        }
      ],
      "source": [
        "a > b"
      ]
    },
    {
      "cell_type": "code",
      "execution_count": 62,
      "id": "15a5a80a",
      "metadata": {
        "id": "15a5a80a",
        "outputId": "30b0a2e5-35b4-4f89-ee88-412af2d66029",
        "colab": {
          "base_uri": "https://localhost:8080/"
        }
      },
      "outputs": [
        {
          "output_type": "execute_result",
          "data": {
            "text/plain": [
              "array([2, 3, 4])"
            ]
          },
          "metadata": {},
          "execution_count": 62
        }
      ],
      "source": [
        "a[a > b]"
      ]
    },
    {
      "cell_type": "markdown",
      "id": "0259499b",
      "metadata": {
        "id": "0259499b"
      },
      "source": [
        "## Summarizing operations"
      ]
    },
    {
      "cell_type": "code",
      "execution_count": 63,
      "id": "c1b30281",
      "metadata": {
        "id": "c1b30281",
        "outputId": "a59bed8d-b9d2-48d5-dc2c-6ebfb991792f",
        "colab": {
          "base_uri": "https://localhost:8080/"
        }
      },
      "outputs": [
        {
          "output_type": "execute_result",
          "data": {
            "text/plain": [
              "array([0, 1, 2, 3, 4])"
            ]
          },
          "metadata": {},
          "execution_count": 63
        }
      ],
      "source": [
        "a"
      ]
    },
    {
      "cell_type": "code",
      "execution_count": 64,
      "id": "d850c2aa",
      "metadata": {
        "id": "d850c2aa",
        "outputId": "7b772010-92dd-46ec-a20c-f17ad7934fcb",
        "colab": {
          "base_uri": "https://localhost:8080/"
        }
      },
      "outputs": [
        {
          "output_type": "execute_result",
          "data": {
            "text/plain": [
              "1.4142135623730951"
            ]
          },
          "metadata": {},
          "execution_count": 64
        }
      ],
      "source": [
        "a.std()"
      ]
    },
    {
      "cell_type": "code",
      "execution_count": 65,
      "id": "2b2587f2",
      "metadata": {
        "id": "2b2587f2",
        "outputId": "18f7a3dd-a115-47da-94cc-7e158bcf3f16",
        "colab": {
          "base_uri": "https://localhost:8080/"
        }
      },
      "outputs": [
        {
          "output_type": "execute_result",
          "data": {
            "text/plain": [
              "0"
            ]
          },
          "metadata": {},
          "execution_count": 65
        }
      ],
      "source": [
        "n.min()"
      ]
    }
  ],
  "metadata": {
    "kernelspec": {
      "display_name": "Python 3 (ipykernel)",
      "language": "python",
      "name": "python3"
    },
    "language_info": {
      "codemirror_mode": {
        "name": "ipython",
        "version": 3
      },
      "file_extension": ".py",
      "mimetype": "text/x-python",
      "name": "python",
      "nbconvert_exporter": "python",
      "pygments_lexer": "ipython3",
      "version": "3.8.11"
    },
    "colab": {
      "name": "numpy-basics.ipynb",
      "provenance": [],
      "include_colab_link": true
    }
  },
  "nbformat": 4,
  "nbformat_minor": 5
}