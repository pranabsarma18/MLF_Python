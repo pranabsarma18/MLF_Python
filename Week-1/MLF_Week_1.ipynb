{
  "nbformat": 4,
  "nbformat_minor": 0,
  "metadata": {
    "colab": {
      "name": "MLF Week-1.ipynb",
      "provenance": [],
      "authorship_tag": "ABX9TyNIPa7PxIAFiXgDoJxsfiet",
      "include_colab_link": true
    },
    "kernelspec": {
      "name": "python3",
      "display_name": "Python 3"
    },
    "language_info": {
      "name": "python"
    }
  },
  "cells": [
    {
      "cell_type": "markdown",
      "metadata": {
        "id": "view-in-github",
        "colab_type": "text"
      },
      "source": [
        "<a href=\"https://colab.research.google.com/github/pranabsarma18/MLF_Python/blob/main/Week-1/MLF_Week_1.ipynb\" target=\"_parent\"><img src=\"https://colab.research.google.com/assets/colab-badge.svg\" alt=\"Open In Colab\"/></a>"
      ]
    },
    {
      "cell_type": "markdown",
      "source": [
        "***In week-1 we learned about What is Machine Learning, what are its types. We also learned about how we implement different machine learning models such as Regression, Classification, Dimensionality Reduction and Density Estimation. Here is this section I have implemented a python script to calculate loss of a Dimensionality Reduction Model. Similary the same approach can be followed for other models as well.***"
      ],
      "metadata": {
        "id": "6s9PQUYxQrTm"
      }
    },
    {
      "cell_type": "markdown",
      "source": [
        "**Calculating Loss of a Dimensionality Reduction Model :**\n",
        "\n",
        "For example let us take the following dataset which have 4 samples and each sample has 3 datapoints.\n",
        "\n",
        "\\begin{array}{c} \\hline\n",
        "x_1 & x_2 & x_3 \\\\ \\hline\n",
        "10 & 10 & 9 \\\\\n",
        "13 & 12 & 13 \\\\\n",
        "5 & 5 & 4 \\\\ \n",
        "8 & 7 & 7 \\\\ \\hline\n",
        "\\end{array}\n",
        "\n",
        "We have encoder function $f(x)$ = $x_1 - x_2 + x_3$ and decoder function $g(u)$ = $[u,u,u]$"
      ],
      "metadata": {
        "id": "WNEyoGTGRCw8"
      }
    },
    {
      "cell_type": "markdown",
      "source": [
        "The loss of the Dimensionality Reduction Model is calculated as,\n",
        "\n",
        "$Loss$ = $\\cfrac{1}{a}\\displaystyle\\sum_{i=1}^n||x^i-g(f(x^i))||^2$"
      ],
      "metadata": {
        "id": "rSLeGwOwRnfg"
      }
    },
    {
      "cell_type": "code",
      "source": [
        "import numpy as np\n",
        "\n",
        "# Dataset \n",
        "X = np.array([[10,10,9],[13,12,13],[5,5,4],[8,7,7]])\n",
        "\n",
        "# Encoder function f\n",
        "def encode(X):\n",
        "    return X[:, 0] - X[:, 1] + X[:, 2]\n",
        "\n",
        "#Decoder function\n",
        "def decode(inp): \n",
        "  d = []\n",
        "  for i in range(len(inp)):\n",
        "    d.append([])\n",
        "    d[i] = d[i] + [inp[i],inp[i],inp[i]]\n",
        "  return d\n",
        "\n",
        "# Loss Function\n",
        "def loss(X,inp): \n",
        "  l = 0\n",
        "  for i in range(len(X)):\n",
        "    t1 = np.array(X[i]) - np.array(inp[i])\n",
        "    l = l + (t1[0]**2 + t1[1]**2 + t1[2]**2)\n",
        "  return l/len(X)\n",
        "\n",
        "# Calculating Loss for the first pair of enoder-decoder\n",
        "f = encode(X)\n",
        "g = decode(f)\n",
        "print(\"Loss for the first pair of Encoder-Decoder: \", loss(X,g))"
      ],
      "metadata": {
        "colab": {
          "base_uri": "https://localhost:8080/"
        },
        "id": "Iu_NDYORRiT1",
        "outputId": "53d4ea48-b726-4ca0-b3f4-b6ac8eecc5d1"
      },
      "execution_count": 4,
      "outputs": [
        {
          "output_type": "stream",
          "name": "stdout",
          "text": [
            "Loss for the first pair of Encoder-Decoder:  3.0\n"
          ]
        }
      ]
    }
  ]
}